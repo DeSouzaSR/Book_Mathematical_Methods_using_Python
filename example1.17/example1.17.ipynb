{
 "cells": [
  {
   "cell_type": "markdown",
   "id": "f3a0c5cb-d542-4569-87b6-bc9b18692be0",
   "metadata": {},
   "source": [
    "# Example 1.17: Example of symbolic evaluation\n",
    "\n",
    "Use SymPy to solve again the problem of throwing a ball straight up with an initial speed $v_0 = 5\\,m/s$. Evaluate symbolically the maximum height $y$ max reached by the ball (neglecting air resistance), and how long it takes to reach this maximum height.\n",
    "\n",
    "starting from\n",
    "\n",
    "$$ y = v_0t-\\frac{1}{2}gt^2$$\n",
    "\n",
    "$$ v(t) = v_0 - gt $$"
   ]
  },
  {
   "cell_type": "code",
   "execution_count": 1,
   "id": "893b6871-fc2f-451e-93fa-af3ae75eb2bc",
   "metadata": {},
   "outputs": [],
   "source": [
    "from sympy import symbols, solve"
   ]
  },
  {
   "cell_type": "code",
   "execution_count": 4,
   "id": "f4f14c0a-3ba5-4a29-a1b5-3723cc03ced5",
   "metadata": {},
   "outputs": [],
   "source": [
    "v0, t, g = symbols('v0, t, g', real=True)"
   ]
  },
  {
   "cell_type": "code",
   "execution_count": 11,
   "id": "b0eaa50b-b1f5-4e9a-8233-d1b6976525e0",
   "metadata": {},
   "outputs": [
    {
     "name": "stdout",
     "output_type": "stream",
     "text": [
      "Time to reach max height=\n"
     ]
    },
    {
     "data": {
      "text/latex": [
       "$\\displaystyle \\frac{v_{0}}{g}$"
      ],
      "text/plain": [
       "v0/g"
      ]
     },
     "execution_count": 11,
     "metadata": {},
     "output_type": "execute_result"
    }
   ],
   "source": [
    "tmax = solve(v0 - g*t, t)[0]\n",
    "print('Time to reach max height=')\n",
    "tmax"
   ]
  },
  {
   "cell_type": "code",
   "execution_count": 13,
   "id": "cc8a7adc-d7dc-4bbe-b00f-b57e8b822591",
   "metadata": {},
   "outputs": [
    {
     "name": "stdout",
     "output_type": "stream",
     "text": [
      "Max height reached\n"
     ]
    },
    {
     "data": {
      "text/latex": [
       "$\\displaystyle \\frac{v_{0}^{2}}{2 g}$"
      ],
      "text/plain": [
       "v0**2/(2*g)"
      ]
     },
     "execution_count": 13,
     "metadata": {},
     "output_type": "execute_result"
    }
   ],
   "source": [
    "y = vo*t-g*t**2/2\n",
    "ymax = y.subs(t, tmax)\n",
    "print('Max height reached')\n",
    "ymax"
   ]
  },
  {
   "cell_type": "code",
   "execution_count": 16,
   "id": "5120dddf-7f3c-4800-a574-fcbcc614c6da",
   "metadata": {},
   "outputs": [
    {
     "data": {
      "text/latex": [
       "$\\displaystyle 5.10204081632653$"
      ],
      "text/plain": [
       "5.10204081632653"
      ]
     },
     "execution_count": 16,
     "metadata": {},
     "output_type": "execute_result"
    }
   ],
   "source": [
    "ymax.subs(v0,10).subs(g,9.8)"
   ]
  },
  {
   "cell_type": "code",
   "execution_count": null,
   "id": "ad43f4c0-af63-49bd-b85f-184b37b8bac8",
   "metadata": {},
   "outputs": [],
   "source": []
  }
 ],
 "metadata": {
  "kernelspec": {
   "display_name": "Python 3 (ipykernel)",
   "language": "python",
   "name": "python3"
  },
  "language_info": {
   "codemirror_mode": {
    "name": "ipython",
    "version": 3
   },
   "file_extension": ".py",
   "mimetype": "text/x-python",
   "name": "python",
   "nbconvert_exporter": "python",
   "pygments_lexer": "ipython3",
   "version": "3.8.10"
  }
 },
 "nbformat": 4,
 "nbformat_minor": 5
}
